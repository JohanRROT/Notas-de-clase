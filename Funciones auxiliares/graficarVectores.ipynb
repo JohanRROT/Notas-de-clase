{
 "cells": [
  {
   "cell_type": "code",
   "execution_count": null,
   "id": "cf28010c",
   "metadata": {},
   "outputs": [],
   "source": [
    "def graficarVectores(vecs, cols, alpha=1):\n",
    "    plt.figure()\n",
    "    plt.axvline(x=0, color=\"grey\", zorder=0)\n",
    "    plt.axhline(y=0, color=\"grey\", zorder=0)\n",
    "    \n",
    "    for i in range (len(vecs)):\n",
    "        x=np.concatenate([[0,0],vecs[i]])\n",
    "        plt.quiver([x[0]],\n",
    "                  [x[1]],\n",
    "                  [x[2]],\n",
    "                  [x[3]],\n",
    "                  angles=\"xy\", scale_units=\"xy\", scale=1, color=cols[i], alpha=alpha)\n",
    "#    plt.grid()\n",
    "#plt.gca().set_aspect(\"equal\") acopar estos comandos adicionales, puesto que ayudan a ver la cuadricula en el grafico"
   ]
  },
  {
   "cell_type": "code",
   "execution_count": null,
   "id": "69d2bca7",
   "metadata": {},
   "outputs": [],
   "source": [
    "#entretiempo\n",
    "for a in range(-10,10):\n",
    "    for b in range(-10,10):\n",
    "        plt.scatter(v1[0]*a+v2[0]*b, v1[1]*a +v2[1]*b, marker=\".\",color=\"orange\")\n",
    "\n",
    "plt.xlim(-100,100)\n",
    "plt.ylim(-100,100)\n",
    "\n",
    "plt.axvline(x=0,color=\"grey\")\n",
    "plt.axhline(y=0,color=\"grey\")\n",
    "\n",
    "plt.show()\n"
   ]
  }
 ],
 "metadata": {
  "kernelspec": {
   "display_name": "Python 3 (ipykernel)",
   "language": "python",
   "name": "python3"
  },
  "language_info": {
   "codemirror_mode": {
    "name": "ipython",
    "version": 3
   },
   "file_extension": ".py",
   "mimetype": "text/x-python",
   "name": "python",
   "nbconvert_exporter": "python",
   "pygments_lexer": "ipython3",
   "version": "3.10.9"
  }
 },
 "nbformat": 4,
 "nbformat_minor": 5
}
