{
 "cells": [
  {
   "cell_type": "code",
   "execution_count": 35,
   "id": "93e03f0d",
   "metadata": {},
   "outputs": [],
   "source": [
    "import numpy as np"
   ]
  },
  {
   "cell_type": "code",
   "execution_count": 43,
   "id": "65cd2672",
   "metadata": {
    "scrolled": true
   },
   "outputs": [
    {
     "name": "stdout",
     "output_type": "stream",
     "text": [
      "[1 2 3]\n"
     ]
    }
   ],
   "source": [
    "vector=np.array([1,2,3])\n",
    "print(vector)"
   ]
  },
  {
   "cell_type": "code",
   "execution_count": 21,
   "id": "9b4e567d",
   "metadata": {},
   "outputs": [
    {
     "name": "stdout",
     "output_type": "stream",
     "text": [
      "[[1 2 3]\n",
      " [4 5 6]\n",
      " [7 8 9]]\n"
     ]
    }
   ],
   "source": [
    "matriz=np.array([[1,2,3],[4,5,6],[7,8,9]])\n",
    "print(matriz)"
   ]
  },
  {
   "cell_type": "code",
   "execution_count": 10,
   "id": "252b9417",
   "metadata": {},
   "outputs": [
    {
     "name": "stdout",
     "output_type": "stream",
     "text": [
      "[[[ 1  2  3]\n",
      "  [ 4  5  6]\n",
      "  [ 7  8  9]]\n",
      "\n",
      " [[10 11 12]\n",
      "  [13 14 15]\n",
      "  [16 17 18]]\n",
      "\n",
      " [[19 20 21]\n",
      "  [22 23 24]\n",
      "  [25 26 27]]]\n"
     ]
    }
   ],
   "source": [
    "tensor=np.array([\n",
    "    [[1,2,3],[4,5,6],[7,8,9]],\n",
    "    [[10,11,12],[13,14,15],[16,17,18]],\n",
    "    [[19,20,21],[22,23,24],[25,26,27]]\n",
    "])\n",
    "print(tensor)"
   ]
  },
  {
   "cell_type": "code",
   "execution_count": 29,
   "id": "fde276f1",
   "metadata": {},
   "outputs": [],
   "source": [
    "%matplotlib inline\n",
    "import matplotlib.pyplot as plt"
   ]
  },
  {
   "cell_type": "code",
   "execution_count": 24,
   "id": "4357dd94",
   "metadata": {},
   "outputs": [
    {
     "data": {
      "text/plain": [
       "<matplotlib.image.AxesImage at 0x190b6cb9060>"
      ]
     },
     "execution_count": 24,
     "metadata": {},
     "output_type": "execute_result"
    },
    {
     "data": {
      "image/png": "[encoded data removed]",
      "text/plain": [
       "<Figure size 640x480 with 1 Axes>"
      ]
     },
     "metadata": {},
     "output_type": "display_data"
    }
   ],
   "source": [
    "plt.imshow(tensor, interpolation=\"nearest\")"
   ]
  },
  {
   "cell_type": "code",
   "execution_count": 23,
   "id": "512a6278",
   "metadata": {},
   "outputs": [],
   "source": [
    "tensor=np.array([\n",
    "    [[0,0,0],[0,0,0],[0,0,0]],\n",
    "    [[128,128,128],[128,128,128],[128,128,128]],\n",
    "    [[255,0,0],[200,155,100],[0,255,0]]\n",
    "])"
   ]
  },
  {
   "cell_type": "code",
   "execution_count": 34,
   "id": "24174ee7",
   "metadata": {},
   "outputs": [
    {
     "data": {
      "text/plain": [
       "(3, 3, 3)"
      ]
     },
     "execution_count": 34,
     "metadata": {},
     "output_type": "execute_result"
    }
   ],
   "source": [
    "tensor.shape #nos permite saber la dimencion de un verctor, matriz o tensor, la informacion mostrada\n",
    "            #se refiere a ( # de capas de matrices,filas, colomnas)"
   ]
  },
  {
   "cell_type": "code",
   "execution_count": 28,
   "id": "234701b1",
   "metadata": {},
   "outputs": [
    {
     "name": "stdout",
     "output_type": "stream",
     "text": [
      "9\n"
     ]
    }
   ],
   "source": [
    "print(matriz.size)#nos permite ver la cantidad de elementos totales en una matriz"
   ]
  },
  {
   "cell_type": "code",
   "execution_count": null,
   "id": "fb14a793",
   "metadata": {},
   "outputs": [],
   "source": [
    "#clase 6 - transposicion de matrices "
   ]
  },
  {
   "cell_type": "code",
   "execution_count": 38,
   "id": "35e442ff",
   "metadata": {},
   "outputs": [
    {
     "name": "stdout",
     "output_type": "stream",
     "text": [
      "[[1 4 7]\n",
      " [2 5 8]\n",
      " [3 6 9]]\n",
      "[[1 2 3]\n",
      " [4 5 6]\n",
      " [7 8 9]]\n"
     ]
    }
   ],
   "source": [
    "#se debe usar la libreria numpy\n",
    "#para hacer transpuestas, se debe usar la libreria de la siguiente forma\n",
    "matriz_t=matriz.T\n",
    "print(matriz_t)\n",
    "print(matriz)"
   ]
  },
  {
   "cell_type": "code",
   "execution_count": 39,
   "id": "048b2b3d",
   "metadata": {},
   "outputs": [
    {
     "name": "stdout",
     "output_type": "stream",
     "text": [
      "[[[  0 128 255]\n",
      "  [  0 128 200]\n",
      "  [  0 128   0]]\n",
      "\n",
      " [[  0 128   0]\n",
      "  [  0 128 155]\n",
      "  [  0 128 255]]\n",
      "\n",
      " [[  0 128   0]\n",
      "  [  0 128 100]\n",
      "  [  0 128   0]]]\n"
     ]
    }
   ],
   "source": [
    "#tambien se pueden hacer transpuestas de los tensores, en ese caso lo que hace es que toma la primera\n",
    "#columna de cada matriz transpuesta y con ellas genera una nueva matriz, despues toma las segundas columnas de la\n",
    "#matriz original y forma otra matriz, esto lo hace las veces que haga falta segun el tamaño de las matrices\n",
    "tensor_t=tensor.T\n",
    "print(tensor_t)"
   ]
  },
  {
   "cell_type": "code",
   "execution_count": 18,
   "id": "40b4dad7",
   "metadata": {},
   "outputs": [
    {
     "ename": "NameError",
     "evalue": "name 'matriz_t' is not defined",
     "output_type": "error",
     "traceback": [
      "\u001b[1;31m---------------------------------------------------------------------------\u001b[0m",
      "\u001b[1;31mNameError\u001b[0m                                 Traceback (most recent call last)",
      "\u001b[1;32m~\\AppData\\Local\\Temp\\ipykernel_2676\\193647817.py\u001b[0m in \u001b[0;36m<module>\u001b[1;34m\u001b[0m\n\u001b[0;32m      1\u001b[0m \u001b[1;31m#hay que recordar que la transpuesta de una transpuesta regresa la matriz original\u001b[0m\u001b[1;33m\u001b[0m\u001b[1;33m\u001b[0m\u001b[0m\n\u001b[1;32m----> 2\u001b[1;33m \u001b[0mmatriz_t_t\u001b[0m\u001b[1;33m=\u001b[0m\u001b[0mmatriz_t\u001b[0m\u001b[1;33m.\u001b[0m\u001b[0mT\u001b[0m\u001b[1;33m\u001b[0m\u001b[1;33m\u001b[0m\u001b[0m\n\u001b[0m\u001b[0;32m      3\u001b[0m \u001b[0mprint\u001b[0m\u001b[1;33m(\u001b[0m\u001b[0mmatriz\u001b[0m\u001b[1;33m)\u001b[0m\u001b[1;33m\u001b[0m\u001b[1;33m\u001b[0m\u001b[0m\n\u001b[0;32m      4\u001b[0m \u001b[0mprint\u001b[0m\u001b[1;33m(\u001b[0m\u001b[0mmatriz_t_t\u001b[0m\u001b[1;33m)\u001b[0m\u001b[1;33m\u001b[0m\u001b[1;33m\u001b[0m\u001b[0m\n",
      "\u001b[1;31mNameError\u001b[0m: name 'matriz_t' is not defined"
     ]
    }
   ],
   "source": [
    "#hay que recordar que la transpuesta de una transpuesta regresa la matriz original\n",
    "matriz_t_t=matriz_t.T\n",
    "print(matriz)\n",
    "print(matriz_t_t)"
   ]
  },
  {
   "cell_type": "code",
   "execution_count": 47,
   "id": "bc918ab6",
   "metadata": {},
   "outputs": [
    {
     "name": "stdout",
     "output_type": "stream",
     "text": [
      "[1 2 3]\n",
      "[[1 2 3]\n",
      " [4 5 6]\n",
      " [7 8 9]]\n",
      "[[ 2  4  6]\n",
      " [ 5  7  9]\n",
      " [ 8 10 12]]\n"
     ]
    }
   ],
   "source": [
    "#se pueden sumar matrices con diferentes dimenciones gracia a que python tiene integrada una funcion\n",
    "#esta funcion lo que hace es que suma los elementos siempre y cuando coincidan solo sus filas o solo\n",
    "#sus columnas, lo que hace python es que duplica el elemento mas pequeño para que quede del mismo \n",
    "#tamaño que el elemento mas grande- esto se llama \"broadcasting\" \n",
    "\n",
    "print(vector)\n",
    "print(matriz)\n",
    "c=vector+matriz\n",
    "print(c)"
   ]
  },
  {
   "cell_type": "code",
   "execution_count": null,
   "id": "6b36cb02",
   "metadata": {},
   "outputs": [],
   "source": [
    "#clase 8"
   ]
  },
  {
   "cell_type": "code",
   "execution_count": 56,
   "id": "80af4748",
   "metadata": {},
   "outputs": [
    {
     "name": "stdout",
     "output_type": "stream",
     "text": [
      "[30 36 42]\n",
      "[14 32 50]\n",
      "[30 36 42]\n",
      "[1 2 3]\n",
      "[[1 2 3]\n",
      " [4 5 6]\n",
      " [7 8 9]]\n"
     ]
    }
   ],
   "source": [
    "#el producto interno se calcula tomando el primer elemento de la primera fila de la matriz y lo \n",
    "#multiplicamos por el primer elemento del vector, luego tomamos el segundo elemento de la misma fila\n",
    "#de la matriz y lo multiplicamos por el segundo elemento de la matriz y luego sumamos las dos \n",
    "#operaciones y asi optenemos el primer numero del vector que nos da como resultado el producto interno\n",
    "#este ejemplo con una matriz de (3x2) y un vector (1x3)\n",
    "b=matriz.dot(vector)\n",
    "#pru=vector.dot(matriz)\n",
    "print(pru)\n",
    "print(b)\n",
    "#se obtiene el mismo resultado si usamos la siguiente funcion \n",
    "c=np.dot(vector,matriz)\n",
    "print(c)\n",
    "print(vector)\n",
    "print(matriz)"
   ]
  },
  {
   "cell_type": "code",
   "execution_count": null,
   "id": "a20ebfca",
   "metadata": {},
   "outputs": [],
   "source": [
    "#clase9"
   ]
  },
  {
   "cell_type": "code",
   "execution_count": 66,
   "id": "30aa38b2",
   "metadata": {},
   "outputs": [
    {
     "name": "stdout",
     "output_type": "stream",
     "text": [
      "[[ 30  84 138]\n",
      " [ 24  69 114]\n",
      " [ 18  54  90]]\n",
      "[[ 30  84 138]\n",
      " [ 24  69 114]\n",
      " [ 18  54  90]]\n",
      "[[ 90  54  18]\n",
      " [114  69  24]\n",
      " [138  84  30]]\n",
      "[[ 90  54  18]\n",
      " [114  69  24]\n",
      " [138  84  30]]\n"
     ]
    }
   ],
   "source": [
    "#si tenemos el producto punto de 2 matrices y queremos hacer la transpuesta (A x B)T es lo mismo que\n",
    "#hacer la transpuesta de cada una y luego el producto punto entre ella (A)T x (B)T\n",
    "matriz_2=np.array([[9,8,7],[6,5,4],[3,2,1]])\n",
    "prueba_trans1=matriz.dot(matriz_2).T\n",
    "prueba_trans2=matriz.T.dot(matriz_2.T)\n",
    "prueba_trans3=matriz_2.T.dot(matriz.T)\n",
    "prueba_trans4=matriz_2.dot(matriz).T\n",
    "print(prueba_trans1)\n",
    "print(prueba_trans3)\n",
    "print(prueba_trans2)\n",
    "print(prueba_trans4)"
   ]
  },
  {
   "cell_type": "code",
   "execution_count": null,
   "id": "6be1df58",
   "metadata": {},
   "outputs": [],
   "source": [
    "#CLASE 11"
   ]
  },
  {
   "cell_type": "code",
   "execution_count": 2,
   "id": "51b6fd46",
   "metadata": {},
   "outputs": [
    {
     "name": "stderr",
     "output_type": "stream",
     "text": [
      "UsageError: unrecognized arguments: #estos nos indica que se van a mostrar los graficos debajo de cda linea\n"
     ]
    }
   ],
   "source": [
    "%matplotlib inline #estos nos indica que se van a mostrar los graficos debajo de cda linea"
   ]
  },
  {
   "cell_type": "code",
   "execution_count": 4,
   "id": "100aaab2",
   "metadata": {},
   "outputs": [],
   "source": [
    "import numpy as np\n",
    "import matplotlib.pyplot as plt"
   ]
  },
  {
   "cell_type": "code",
   "execution_count": 7,
   "id": "8a0aafde",
   "metadata": {},
   "outputs": [],
   "source": [
    "x=np.arange(-5,5) #genera un intervalo en el eje x de -5 a 5, se le puede agregar otro parametro de cada cuanto se repite\n",
    "y_1= 3*x+5 #se genera un sistema de ecuaciones que son los que se van a graficar\n",
    "y_2= 2*x+3"
   ]
  },
  {
   "cell_type": "code",
   "execution_count": 8,
   "id": "454f33aa",
   "metadata": {},
   "outputs": [
    {
     "data": {
      "text/plain": [
       "<matplotlib.lines.Line2D at 0x1b83ebf8eb0>"
      ]
     },
     "execution_count": 8,
     "metadata": {},
     "output_type": "execute_result"
    },
    {
     "data": {
      "image/png": "[encoded data removed]",
      "text/plain": [
       "<Figure size 640x480 with 1 Axes>"
      ]
     },
     "metadata": {},
     "output_type": "display_data"
    }
   ],
   "source": [
    "plt.figure() #se establece la graficacion del sistema de ecuaciones\n",
    "\n",
    "plt.plot(x, y_1)\n",
    "plt.plot(x, y_2)\n",
    "\n",
    "plt.xlim(-5,5) #se establecen los rangos en los que se va a mostrar el grafico en cada eje\n",
    "plt.ylim(-5,5)\n",
    "\n",
    "plt.axvline(x=0, color=\"grey\") #axvline hace referencia a la linea vertical o horizintal\n",
    "plt.axhline(y=0, color=\"grey\")\n",
    "#una vez ejecutado el codigo podremos ver que donde se cruzan las rectas estan los valores de x and y que satisfacen\n",
    "#el sistema de ecuaciones\n"
   ]
  },
  {
   "cell_type": "code",
   "execution_count": 31,
   "id": "3cb99d0c",
   "metadata": {},
   "outputs": [
    {
     "name": "stdout",
     "output_type": "stream",
     "text": [
      "[[-3  1]\n",
      " [-2  1]]\n",
      "[[5]\n",
      " [3]]\n"
     ]
    }
   ],
   "source": [
    "#tambien podriamos establcer nuestro sistema de ecuaciones en forma matricial de la siguiente manera\n",
    "#La matriz A and B se obtiene de tomar el sistema de ecuaciones y dejar a un lado los valores con incognitas y al otro los \n",
    "#que no las tienen, en este caso la matriz A es la que tiene las incognotas y la b es la que tiene los numeros sin ellas\n",
    "A=np.array([[-3,1],[-2,1]])\n",
    "print(A)\n",
    "B=np.array([[5],[3]])\n",
    "print(B)"
   ]
  },
  {
   "cell_type": "code",
   "execution_count": 12,
   "id": "ddca5938",
   "metadata": {},
   "outputs": [
    {
     "name": "stdout",
     "output_type": "stream",
     "text": [
      "[-2 -1]\n",
      "[5 3]\n"
     ]
    }
   ],
   "source": [
    "#Ahora probamos una solucion que la encontramos al igualar las ecuaciones y despejar el valor de x y despues el valor de y\n",
    "sol_1=np.array([-2,-1])\n",
    "print(sol_1)\n",
    "#podemos verificar los resultados, puesto que podemos multiplicar la matriz A con la matriz de los valores de x and y, o sea\n",
    "#sol_1 y nos debe dar como resultado la matriz B\n",
    "print(A.dot(sol_1))"
   ]
  },
  {
   "cell_type": "code",
   "execution_count": 40,
   "id": "33392466",
   "metadata": {},
   "outputs": [
    {
     "name": "stdout",
     "output_type": "stream",
     "text": [
      "[[-2.]\n",
      " [-1.]]\n",
      "[[-2.]\n",
      " [-1.]]\n",
      "[[1.00000000e+00 0.00000000e+00]\n",
      " [2.22044605e-16 1.00000000e+00]]\n"
     ]
    }
   ],
   "source": [
    "#las matrices no se pueden dividir, asi que el proceso inverso a la multiplicacion es sacar la inversa de la matriz\n",
    "import numpy.linalg as lin # libreria para obtener la inversa de una matriz\n",
    "reversion=lin.inv(A) @ B\n",
    "reversa=lin.inv(A).dot(B) #de esta forma podria ser mas clara la operacion\n",
    "inversa_A=lin.inv(A)\n",
    "print(reversa)\n",
    "print(reversion) #asi tambien obtenemos los resultados de x and y\n",
    "print(A.dot(inversa_A))"
   ]
  },
  {
   "cell_type": "code",
   "execution_count": null,
   "id": "52365eec",
   "metadata": {},
   "outputs": [],
   "source": [
    "#CLASE 13"
   ]
  },
  {
   "cell_type": "code",
   "execution_count": 49,
   "id": "87facfcb",
   "metadata": {},
   "outputs": [
    {
     "name": "stdout",
     "output_type": "stream",
     "text": [
      "[[1 0 0]\n",
      " [0 1 0]\n",
      " [0 0 1]]\n",
      "[[1 2 3]\n",
      " [4 5 6]\n",
      " [7 8 9]]\n",
      "[[1 2 3]\n",
      " [4 5 6]\n",
      " [7 8 9]]\n"
     ]
    }
   ],
   "source": [
    "identidad=np.eye(3,dtype=int) #de esta manera se define la matriz identidad, hay que tener en cuenta que esta matriz es neutra\n",
    "                            #el parametro dtype se agrega por que la entrega por de tipo flotante\n",
    "print(identidad)\n",
    "print(matriz.dot(identidad)) #si hacemos producto punto con una matriz normal, nos regresa la matriz original pero\n",
    "                            #con numeros flotante\n",
    "print(matriz)"
   ]
  },
  {
   "cell_type": "code",
   "execution_count": 43,
   "id": "b7e52173",
   "metadata": {},
   "outputs": [
    {
     "name": "stdout",
     "output_type": "stream",
     "text": [
      "[[-3  1]\n",
      " [-2  1]]\n",
      "[[-1.  1.]\n",
      " [-2.  3.]]\n",
      "[[1.00000000e+00 0.00000000e+00]\n",
      " [2.22044605e-16 1.00000000e+00]]\n"
     ]
    }
   ],
   "source": [
    "#asi se realiza la inversa de una matriz\n",
    "print(A)\n",
    "inversa_A=lin.inv(A)\n",
    "comprobacion=A.dot(inversa_A)\n",
    "print(inversa_A)\n",
    "print(comprobacion)\n",
    "#ahora si multiplicamos la matriz normal por su inversa obtendremos la matriz identidad\n",
    "#print(matriz.dot(inversa_matriz))#aunque en este caso no ocurre\n",
    "#print(inversa_matriz.dot(matriz)) #la razon por la cual no aparece la matriz identidad de manera correcta es por un problema\n",
    "#con los decimales "
   ]
  },
  {
   "cell_type": "code",
   "execution_count": 48,
   "id": "1103c1c9",
   "metadata": {},
   "outputs": [
    {
     "name": "stdout",
     "output_type": "stream",
     "text": [
      "[[ 5.00000000e-01  1.11022302e-16 -5.00000000e-01]\n",
      " [ 7.50000000e-01  1.50000000e+00 -2.75000000e+00]\n",
      " [-2.50000000e-01 -5.00000000e-01  1.25000000e+00]]\n",
      "[[ 1.00000000e+00  0.00000000e+00  0.00000000e+00]\n",
      " [ 0.00000000e+00  1.00000000e+00  0.00000000e+00]\n",
      " [-1.11022302e-16 -2.22044605e-16  1.00000000e+00]]\n"
     ]
    }
   ],
   "source": [
    "#ejercicio de practica\n",
    "J=np.array([[2,1,3],[-1,2,4],[0,1,3]])\n",
    "J_inv=lin.inv(J)\n",
    "comprobacion=J.dot(J_inv)\n",
    "print(J_inv)\n",
    "print(comprobacion)"
   ]
  },
  {
   "cell_type": "code",
   "execution_count": null,
   "id": "3a33c44b",
   "metadata": {},
   "outputs": [],
   "source": [
    "#Clase 14"
   ]
  },
  {
   "cell_type": "code",
   "execution_count": 57,
   "id": "bac2a692",
   "metadata": {},
   "outputs": [
    {
     "name": "stdout",
     "output_type": "stream",
     "text": [
      "[[3 1]\n",
      " [2 1]]\n",
      "[[1]\n",
      " [1]]\n",
      "[[ 1. -1.]\n",
      " [-2.  3.]]\n",
      "[[0.]\n",
      " [1.]]\n"
     ]
    }
   ],
   "source": [
    "#ejemplo de un sistema de ecuaciones 3x+y=1 and 2x+y=1 \n",
    "#se separa el sistema de ecuaciones en matrices A and b, e intentamos encontrar los valores de x and y\n",
    "np.set_printoptions(suppress=True) #esto permite que si un valor esta cercano a 0 python lo aproxime a 0\n",
    "\n",
    "#definimos las matrices\n",
    "A=np.array([[3,1],[2,1]])\n",
    "print(A)\n",
    "b=np.array([[1],[1]])\n",
    "print(b)\n",
    "\n",
    "inversa_A=lin.inv(A)\n",
    "print(inversa_A)\n",
    "\n",
    "variables=inversa_A.dot(b) #aquie estamos despejando los valores de las vartiables \n",
    "print(variables)"
   ]
  }
 ],
 "metadata": {
  "kernelspec": {
   "display_name": "Python 3 (ipykernel)",
   "language": "python",
   "name": "python3"
  },
  "language_info": {
   "codemirror_mode": {
    "name": "ipython",
    "version": 3
   },
   "file_extension": ".py",
   "mimetype": "text/x-python",
   "name": "python",
   "nbconvert_exporter": "python",
   "pygments_lexer": "ipython3",
   "version": "3.10.9"
  }
 },
 "nbformat": 4,
 "nbformat_minor": 5
}
